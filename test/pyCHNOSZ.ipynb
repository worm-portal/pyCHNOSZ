{
 "cells": [
  {
   "cell_type": "code",
   "execution_count": 1,
   "metadata": {},
   "outputs": [],
   "source": [
    "from pyCHNOSZ import subcrt"
   ]
  },
  {
   "cell_type": "code",
   "execution_count": 8,
   "metadata": {},
   "outputs": [
    {
     "name": "stdout",
     "output_type": "stream",
     "text": [
      "subcrt: 3 species at 2 values of T (ºC) and P (bar) (wet) [energy units: cal]\n",
      "\n",
      "nonideal: calculations for H2 (Setchenow equation)\n",
      "\n"
     ]
    }
   ],
   "source": [
    "output = subcrt([\"H2\", \"O2\", \"H2O\"], [-1.0, -0.5, 1.0], [\"aq\", \"gas\", \"liq\"],\n",
    "                T=[30, 50], P=100, IS=0.1)"
   ]
  },
  {
   "cell_type": "code",
   "execution_count": 9,
   "metadata": {},
   "outputs": [
    {
     "data": {
      "text/html": [
       "<div>\n",
       "<style scoped>\n",
       "    .dataframe tbody tr th:only-of-type {\n",
       "        vertical-align: middle;\n",
       "    }\n",
       "\n",
       "    .dataframe tbody tr th {\n",
       "        vertical-align: top;\n",
       "    }\n",
       "\n",
       "    .dataframe thead th {\n",
       "        text-align: right;\n",
       "    }\n",
       "</style>\n",
       "<table border=\"1\" class=\"dataframe\">\n",
       "  <thead>\n",
       "    <tr style=\"text-align: right;\">\n",
       "      <th></th>\n",
       "      <th>coeff</th>\n",
       "      <th>name</th>\n",
       "      <th>formula</th>\n",
       "      <th>state</th>\n",
       "      <th>ispecies</th>\n",
       "    </tr>\n",
       "  </thead>\n",
       "  <tbody>\n",
       "    <tr>\n",
       "      <th>62</th>\n",
       "      <td>-1.0</td>\n",
       "      <td>H2</td>\n",
       "      <td>H2</td>\n",
       "      <td>aq</td>\n",
       "      <td>62.0</td>\n",
       "    </tr>\n",
       "    <tr>\n",
       "      <th>2612</th>\n",
       "      <td>-0.5</td>\n",
       "      <td>oxygen</td>\n",
       "      <td>O2</td>\n",
       "      <td>gas</td>\n",
       "      <td>2612.0</td>\n",
       "    </tr>\n",
       "    <tr>\n",
       "      <th>1</th>\n",
       "      <td>1.0</td>\n",
       "      <td>water</td>\n",
       "      <td>H2O</td>\n",
       "      <td>liq</td>\n",
       "      <td>1.0</td>\n",
       "    </tr>\n",
       "  </tbody>\n",
       "</table>\n",
       "</div>"
      ],
      "text/plain": [
       "      coeff    name formula state  ispecies\n",
       "62     -1.0      H2      H2    aq      62.0\n",
       "2612   -0.5  oxygen      O2   gas    2612.0\n",
       "1       1.0   water     H2O   liq       1.0"
      ]
     },
     "execution_count": 9,
     "metadata": {},
     "output_type": "execute_result"
    }
   ],
   "source": [
    "output[\"reaction\"]"
   ]
  },
  {
   "cell_type": "code",
   "execution_count": 10,
   "metadata": {},
   "outputs": [
    {
     "data": {
      "text/html": [
       "<div>\n",
       "<style scoped>\n",
       "    .dataframe tbody tr th:only-of-type {\n",
       "        vertical-align: middle;\n",
       "    }\n",
       "\n",
       "    .dataframe tbody tr th {\n",
       "        vertical-align: top;\n",
       "    }\n",
       "\n",
       "    .dataframe thead th {\n",
       "        text-align: right;\n",
       "    }\n",
       "</style>\n",
       "<table border=\"1\" class=\"dataframe\">\n",
       "  <thead>\n",
       "    <tr style=\"text-align: right;\">\n",
       "      <th></th>\n",
       "      <th>T</th>\n",
       "      <th>P</th>\n",
       "      <th>rho</th>\n",
       "      <th>logK</th>\n",
       "      <th>G</th>\n",
       "      <th>H</th>\n",
       "      <th>S</th>\n",
       "      <th>V</th>\n",
       "      <th>Cp</th>\n",
       "      <th>loggam</th>\n",
       "      <th>IS</th>\n",
       "    </tr>\n",
       "  </thead>\n",
       "  <tbody>\n",
       "    <tr>\n",
       "      <th>1</th>\n",
       "      <td>30.0</td>\n",
       "      <td>100</td>\n",
       "      <td>1.000017</td>\n",
       "      <td>43.854305</td>\n",
       "      <td>-60831.295981</td>\n",
       "      <td>NaN</td>\n",
       "      <td>NaN</td>\n",
       "      <td>-7.494052</td>\n",
       "      <td>NaN</td>\n",
       "      <td>0.000782</td>\n",
       "      <td>0.1</td>\n",
       "    </tr>\n",
       "    <tr>\n",
       "      <th>2</th>\n",
       "      <td>50.0</td>\n",
       "      <td>100</td>\n",
       "      <td>0.992305</td>\n",
       "      <td>40.833637</td>\n",
       "      <td>-60378.106821</td>\n",
       "      <td>NaN</td>\n",
       "      <td>NaN</td>\n",
       "      <td>-8.259704</td>\n",
       "      <td>NaN</td>\n",
       "      <td>0.000782</td>\n",
       "      <td>0.1</td>\n",
       "    </tr>\n",
       "  </tbody>\n",
       "</table>\n",
       "</div>"
      ],
      "text/plain": [
       "      T    P       rho       logK             G   H   S         V  Cp  \\\n",
       "1  30.0  100  1.000017  43.854305 -60831.295981 NaN NaN -7.494052 NaN   \n",
       "2  50.0  100  0.992305  40.833637 -60378.106821 NaN NaN -8.259704 NaN   \n",
       "\n",
       "     loggam   IS  \n",
       "1  0.000782  0.1  \n",
       "2  0.000782  0.1  "
      ]
     },
     "execution_count": 10,
     "metadata": {},
     "output_type": "execute_result"
    }
   ],
   "source": [
    "output[\"out\"]"
   ]
  },
  {
   "cell_type": "code",
   "execution_count": null,
   "metadata": {},
   "outputs": [],
   "source": []
  },
  {
   "cell_type": "code",
   "execution_count": null,
   "metadata": {},
   "outputs": [],
   "source": [
    "import os\n",
    "os.environ[\"R_HOME\"] = \"/opt/conda/envs/python3andR/lib/R/\"\n",
    "import rpy2.robjects as ro"
   ]
  },
  {
   "cell_type": "code",
   "execution_count": null,
   "metadata": {},
   "outputs": [],
   "source": [
    "r = ro.r\n",
    "r.source('test.r')"
   ]
  },
  {
   "cell_type": "code",
   "execution_count": null,
   "metadata": {},
   "outputs": [],
   "source": [
    "from rpy2.robjects.packages import importr\n",
    "CHNOSZ = importr(\"CHNOSZ\")"
   ]
  },
  {
   "cell_type": "code",
   "execution_count": null,
   "metadata": {},
   "outputs": [],
   "source": [
    "CHNOSZ.info(\"pyrite\")"
   ]
  },
  {
   "cell_type": "code",
   "execution_count": null,
   "metadata": {},
   "outputs": [],
   "source": [
    "ro.Vector([\"H2\", \"O2\", \"H2O\"])"
   ]
  },
  {
   "cell_type": "code",
   "execution_count": null,
   "metadata": {},
   "outputs": [],
   "source": [
    "ro.Vector([-1.0, -0.5, 1.0])"
   ]
  },
  {
   "cell_type": "code",
   "execution_count": null,
   "metadata": {},
   "outputs": [],
   "source": [
    "CHNOSZ.subcrt(species=ro.Vector([\"H2\", \"O2\", \"H2O\"]),\n",
    "              coeff=ro.FloatVector([-1.0, -0.5, 1.0]))"
   ]
  },
  {
   "cell_type": "code",
   "execution_count": null,
   "metadata": {},
   "outputs": [],
   "source": [
    "a = CHNOSZ.subcrt(species=ro.Vector([\"H2\", \"O2\", \"H2O\"]),\n",
    "                       coeff=ro.FloatVector([-1.0, -0.5, 1.0]))\n",
    "a"
   ]
  },
  {
   "cell_type": "code",
   "execution_count": null,
   "metadata": {},
   "outputs": [],
   "source": [
    "a[0]"
   ]
  },
  {
   "cell_type": "code",
   "execution_count": null,
   "metadata": {},
   "outputs": [],
   "source": [
    "import os\n",
    "os.environ[\"R_HOME\"] = \"/opt/conda/envs/python3andR/lib/R/\"\n",
    "import pandas as pd\n",
    "import rpy2.robjects as ro\n",
    "from rpy2.robjects.packages import importr\n",
    "from rpy2.robjects import pandas2ri\n",
    "\n",
    "from rpy2.robjects.conversion import localconverter"
   ]
  },
  {
   "cell_type": "code",
   "execution_count": null,
   "metadata": {},
   "outputs": [],
   "source": [
    "CHNOSZ = importr(\"CHNOSZ\")"
   ]
  },
  {
   "cell_type": "code",
   "execution_count": null,
   "metadata": {},
   "outputs": [],
   "source": [
    "pd_df = pd.DataFrame({'int_values': [1,2,3],\n",
    "                      'str_values': ['abc', 'def', 'ghi']})\n",
    "\n",
    "pd_df"
   ]
  },
  {
   "cell_type": "code",
   "execution_count": null,
   "metadata": {},
   "outputs": [],
   "source": [
    "# convert pandas to R dataframe\n",
    "\n",
    "import numpy as np\n",
    "from rpy2.robjects import pandas2ri\n",
    "pandas2ri.activate()\n",
    "\n",
    "# Create pandas df\n",
    "df = pd.DataFrame( np.random.randn(5,2), # 5 rows, 2 columns\n",
    "               columns = [\"A\",\"B\"], # name of columns\n",
    "               index = [\"Max\", \"Nathy\", \"Tom\", \"Joe\", \"Kathy\"] ) # does this index work?\n",
    "\n",
    "# Convert pandas to r\n",
    "r_df = pandas2ri.py2ri(df)\n",
    "type(r_df)"
   ]
  },
  {
   "cell_type": "code",
   "execution_count": null,
   "metadata": {
    "scrolled": true
   },
   "outputs": [],
   "source": [
    "from rpy2.robjects import pandas2ri\n",
    "\n",
    "pd_df = pandas2ri.ri2py_dataframe(a[0])\n",
    "pd_df"
   ]
  },
  {
   "cell_type": "code",
   "execution_count": null,
   "metadata": {},
   "outputs": [],
   "source": [
    "base = importr('base')"
   ]
  },
  {
   "cell_type": "code",
   "execution_count": null,
   "metadata": {},
   "outputs": [],
   "source": []
  },
  {
   "cell_type": "code",
   "execution_count": null,
   "metadata": {},
   "outputs": [],
   "source": [
    "for warning in base.warnings():\n",
    "    print(warning)"
   ]
  },
  {
   "cell_type": "code",
   "execution_count": null,
   "metadata": {},
   "outputs": [],
   "source": [
    "base.warnings()[0]"
   ]
  },
  {
   "cell_type": "code",
   "execution_count": null,
   "metadata": {},
   "outputs": [],
   "source": [
    "args = {'species':\"CH4\", 'T':ro.FloatVector([20, 30])}\n",
    "CHNOSZ.subcrt(**args)"
   ]
  },
  {
   "cell_type": "code",
   "execution_count": null,
   "metadata": {},
   "outputs": [],
   "source": [
    "### Filter rpy2 runtime warnings\n",
    "# import warnings\n",
    "# from rpy2.rinterface import RRuntimeWarning\n",
    "# warnings.filterwarnings(\"ignore\", category=RRuntimeWarning)"
   ]
  },
  {
   "cell_type": "code",
   "execution_count": null,
   "metadata": {},
   "outputs": [],
   "source": [
    "import warnings\n",
    "from rpy2.rinterface import RRuntimeWarning\n",
    "\n",
    "with warnings.catch_warnings():\n",
    "    warnings.filterwarnings(\n",
    "        action='ignore',\n",
    "        category=RRuntimeWarning,\n",
    "        message='test warning message')\n",
    "    \n",
    "    args = {'species':\"CH4\", 'T':ro.FloatVector([20, 30])}\n",
    "    CHNOSZ.subcrt(**args)"
   ]
  },
  {
   "cell_type": "code",
   "execution_count": null,
   "metadata": {},
   "outputs": [],
   "source": [
    "import warnings\n",
    "\n",
    "def fxn():\n",
    "    warnings.warn(\"deprecated\", DeprecationWarning)\n",
    "\n",
    "with warnings.catch_warnings(record=True):\n",
    "    warnings.simplefilter(\"ignore\")\n",
    "    fxn()\n",
    "warnings.showwarning()"
   ]
  },
  {
   "cell_type": "code",
   "execution_count": null,
   "metadata": {},
   "outputs": [],
   "source": [
    "import warnings\n",
    "\n",
    "def fxn():\n",
    "    warnings.warn(\"deprecated\", DeprecationWarning)\n",
    "\n",
    "with warnings.catch_warnings(record=True) as w:\n",
    "    # Cause all warnings to always be triggered.\n",
    "    warnings.simplefilter(\"always\")\n",
    "    # Trigger a warning.\n",
    "    fxn()\n",
    "    # Verify some things\n",
    "#     assert len(w) == 1\n",
    "#     assert issubclass(w[-1].category, DeprecationWarning)\n",
    "#     assert \"deprecated\" in str(w[-1].message)\n",
    "print(w[0].message)"
   ]
  },
  {
   "cell_type": "code",
   "execution_count": null,
   "metadata": {},
   "outputs": [],
   "source": [
    "import os\n",
    "os.environ[\"R_HOME\"] = \"/opt/conda/envs/python3andR/lib/R/\"\n",
    "from rpy2.rinterface import RRuntimeWarning"
   ]
  },
  {
   "cell_type": "code",
   "execution_count": null,
   "metadata": {},
   "outputs": [],
   "source": [
    "import os\n",
    "os.environ[\"R_HOME\"] = \"/opt/conda/envs/python3andR/lib/R/\"\n",
    "import warnings\n",
    "from rpy2.rinterface import RRuntimeWarning\n",
    "\n",
    "with warnings.catch_warnings():\n",
    "    warnings.filterwarnings(\n",
    "        action='ignore',\n",
    "        category=RRuntimeWarning,\n",
    "        message='Loading rpy2 R environment and CHNOSZ')\n",
    "    \n",
    "    import rpy2.robjects as ro\n",
    "    from rpy2.robjects.packages import importr\n",
    "    \n",
    "    CHNOSZ = importr(\"CHNOSZ\")"
   ]
  },
  {
   "cell_type": "markdown",
   "metadata": {},
   "source": [
    " ```\n",
    "  subcrt(species, coeff = 1, state = NULL,\n",
    "    property = c(\"logK\",\"G\",\"H\",\"S\",\"V\",\"Cp\"),\n",
    "    T = seq(273.15,623.15,25), P = \"Psat\", grid = NULL, \n",
    "    convert = TRUE, exceed.Ttr = FALSE, exceed.rhomin = FALSE,\n",
    "    logact = NULL, autobalance = TRUE, IS = 0)\n",
    "```"
   ]
  },
  {
   "cell_type": "code",
   "execution_count": null,
   "metadata": {},
   "outputs": [],
   "source": [
    "def subcrt(species, coeff=None, state=None,\n",
    "           property=[\"logK\",\"G\",\"H\",\"S\",\"V\",\"Cp\"],\n",
    "           T=None, P=None, grid=None,\n",
    "           convert=True, exceed_Ttr=False, exceed_rhomin=False,\n",
    "           logact=None, autobalance=True, IS=None):\n",
    "    \n",
    "    \"\"\"\n",
    "    Python wrapper for the subcrt() function in CHNOSZ, an R package created by Dr. Jeffrey Dick.\n",
    "    \"\"\"\n",
    "    \n",
    "    if not isinstance(species, list):\n",
    "        args = {'species':species}\n",
    "        single_species = True\n",
    "    else:\n",
    "        args = {'species':ro.StrVector(species)}\n",
    "        single_species = False\n",
    "        \n",
    "    if coeff != None: args[\"coeff\"] = ro.FloatVector(coeff)\n",
    "        \n",
    "    if state != None:\n",
    "        if not isinstance(state, list):\n",
    "            args[\"state\"] = state\n",
    "        else:\n",
    "            args[\"state\"] = ro.StrVector(state)\n",
    "    \n",
    "    if not isinstance(property, list): property = [property]\n",
    "    args[\"property\"] = ro.StrVector(property)\n",
    "    \n",
    "    if T != None:\n",
    "        if not isinstance(T, list):\n",
    "            args['T'] = T\n",
    "        else:\n",
    "            args['T'] = ro.FloatVector(T)\n",
    "\n",
    "    if P != None:\n",
    "        if not isinstance(P, list):\n",
    "            args['P'] = P\n",
    "        else:\n",
    "            args['P'] = ro.FloatVector(P)\n",
    "    \n",
    "    if grid != None: args['grid'] = grid # grid is either 'T' or 'P'\n",
    "    \n",
    "    args['convert'] = convert\n",
    "    args['exceed.Ttr'] = exceed_Ttr\n",
    "    args['exceed.rhomin'] = exceed_rhomin\n",
    "    \n",
    "    if logact != None: args[\"logact\"] = ro.FloatVector(logact)\n",
    "    \n",
    "    args['autobalance'] = autobalance\n",
    "    \n",
    "    if IS != None:\n",
    "        if not isinstance(IS, list):\n",
    "            args[\"IS\"] = IS\n",
    "        else:\n",
    "            args[\"IS\"] = ro.FloatVector(IS)\n",
    "    \n",
    "    with warnings.catch_warnings(record=True) as w:\n",
    "        warnings.simplefilter(\"always\")\n",
    "        a = CHNOSZ.subcrt(**args)\n",
    "    \n",
    "    for warning in w:\n",
    "        print(warning.message)\n",
    "    \n",
    "    if len(a) == 3:\n",
    "        warn = a[2][0] # subcrt's list includes warnings only if they appear\n",
    "    else:\n",
    "        warn = None\n",
    "    \n",
    "    if single_species:\n",
    "        out_dict = {\"species\":pandas2ri.ri2py_dataframe(a[0]),\n",
    "                    \"out\":pandas2ri.ri2py_dataframe(a[1][0])} # the extra [0] is important\n",
    "    else:\n",
    "        out_dict = {\"reaction\":pandas2ri.ri2py_dataframe(a[0]),\n",
    "                    \"out\":pandas2ri.ri2py_dataframe(a[1])}\n",
    "        \n",
    "    if warn != None:\n",
    "        out_dict[\"warnings\"] = warn\n",
    "    \n",
    "    return out_dict\n",
    "\n",
    "out = subcrt([\"H2\", \"O2\", \"H2O\"], [-1.0, -0.5, 1.0], [\"aq\", \"gas\", \"liq\"],\n",
    "             \"logK\", T=[30, 50], P=100, logact=[-4, -3, -5], IS=0.1)\n",
    "\n",
    "#out = subcrt(\"CH4\")\n",
    "out"
   ]
  },
  {
   "cell_type": "code",
   "execution_count": null,
   "metadata": {},
   "outputs": [],
   "source": [
    "out[\"reaction\"]\n",
    "#out[\"species\"]"
   ]
  },
  {
   "cell_type": "code",
   "execution_count": null,
   "metadata": {},
   "outputs": [],
   "source": [
    "out[\"out\"]"
   ]
  },
  {
   "cell_type": "code",
   "execution_count": null,
   "metadata": {},
   "outputs": [],
   "source": [
    "out[\"warnings\"]"
   ]
  },
  {
   "cell_type": "code",
   "execution_count": null,
   "metadata": {},
   "outputs": [],
   "source": [
    "subcrt(species=[\"H2O\"], coeff=[1])[\"warnings\"]"
   ]
  },
  {
   "cell_type": "code",
   "execution_count": null,
   "metadata": {},
   "outputs": [],
   "source": [
    "# TODO: figure out optional arguments."
   ]
  },
  {
   "cell_type": "code",
   "execution_count": null,
   "metadata": {},
   "outputs": [],
   "source": []
  }
 ],
 "metadata": {
  "kernelspec": {
   "display_name": "Python 3 and R",
   "language": "python",
   "name": "python3andr"
  },
  "language_info": {
   "codemirror_mode": {
    "name": "ipython",
    "version": 3
   },
   "file_extension": ".py",
   "mimetype": "text/x-python",
   "name": "python",
   "nbconvert_exporter": "python",
   "pygments_lexer": "ipython3",
   "version": "3.7.0"
  }
 },
 "nbformat": 4,
 "nbformat_minor": 4
}
