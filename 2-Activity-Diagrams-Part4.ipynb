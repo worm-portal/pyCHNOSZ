{
 "cells": [
  {
   "cell_type": "markdown",
   "metadata": {
    "colab_type": "text",
    "id": "nqIxHuDUZtoy"
   },
   "source": [
    "<left>\n",
    "<table style=\"margin-top:0px; margin-left:0px;\">\n",
    "<tr>\n",
    "  <td><img src=\"https://raw.githubusercontent.com/worm-portal/WORM-Figures/master/style/worm.png\" alt=\"WORM\" title=\"WORM\" width=50/></td>\n",
    "  <td><h1 style=font-size:30px>Activity Diagrams Part 4</h1><br />\n",
    "</tr>\n",
    "</table>\n",
    "</left>"
   ]
  },
  {
   "cell_type": "markdown",
   "metadata": {
    "colab_type": "text",
    "id": "2KugmmlVZtoz"
   },
   "source": [
    "### What's covered in this demo?\n",
    "\n",
    " - Plotting as a function of charged chemical species\n",
    " - Reproducing [Figure 8A](https://ars.els-cdn.com/content/image/1-s2.0-S2590197421000070-gr8_lrg.jpg) in [Dick 2021](https://doi.org/10.1016/j.acags.2021.100059), a mineral predominance diagram depicting a Cu-Fe-S-O-H system balanced by O<sub>2</sub>\n",
    " - Making black and white figures\n",
    " - Adding mineral saturation lines with `add_saturation_lines`\n",
    " - Saving figures as files (e.g., PNG, JPG, WEBP, SVG, PDF, HTML)\n",
    "\n",
    "### Introduction\n",
    "\n",
    "In this demo, let's reproduce Figure A8 (left panel) in [Dick 2021](https://doi.org/10.1016/j.acags.2021.100059):\n",
    "\n",
    "<img src=\"https://ars.els-cdn.com/content/image/1-s2.0-S2590197421000070-gr8_lrg.jpg\" alt=\"Fig8A in Dick 2021\" title=\"Fig8A in Dick 2021\" width=75%/>\n",
    "\n",
    "Going through the step-by-step process of recreating this figure will touch on some new concepts and features of pyCHNOSZ that might be useful when creating activity diagrams for your own projects.\n",
    "\n",
    "### Getting ready\n",
    "\n",
    "Just like in Part 1 and 2 of the Activity Diagram demo, we will import the pyCHNOSZ Python package and the [WORM thermodynamic database](https://worm-portal.asu.edu/docs/database/)."
   ]
  },
  {
   "cell_type": "code",
   "execution_count": null,
   "metadata": {
    "colab": {},
    "colab_type": "code",
    "id": "bC6QRhPyZto3"
   },
   "outputs": [],
   "source": [
    "from pyCHNOSZ import *\n",
    "_ = thermo(\"WORM\")"
   ]
  },
  {
   "cell_type": "markdown",
   "metadata": {},
   "source": [
    "First, let's load a set of basis species with the `basis` function. The goal here is to select basis species that can be used to \"build\" all of the minerals depicted in Fig8A.\n",
    "\n",
    "Here is where you have the opportunity to choose basis species that are most relevant to your system. Would you like to use SO4-2 to provide the sulfur in the system? Or elemental sulfur? Or what about carbon? Should you use CO2, CH4, or something else? You get to decide how the model is set up based on your best judgement and what you are trying to model.\n",
    "\n",
    "In our case, [Dick 2021](https://doi.org/10.1016/j.acags.2021.100059) provides code for CHNOSZ (in R) in their supplementary information that lets us follow along using pyCHNOSZ (in Python). They set up their basis set like this:"
   ]
  },
  {
   "cell_type": "code",
   "execution_count": null,
   "metadata": {},
   "outputs": [],
   "source": [
    "basis([\"Fe+2\", \"Cu+\", \"H2S(g)\", \"O2(g)\", \"H2O\", \"H+\"])"
   ]
  },
  {
   "cell_type": "markdown",
   "metadata": {},
   "source": [
    "The author also boosted the log activity of H2S(g) to 2. Let's do that too.\n",
    "\n",
    "Note that when we defined our basis species in the cell above, we used \"H2S(g)\" to represent sulfur. Then in the dataframe output, the species was renamed \"H2S\" and is listed as a \"gas\" under the state column (same with \"O2(g)\" and \"O2\").\n",
    "\n",
    "This is important to note because when changing the activity of a basis species, you have to use the name that appears in the dataframe output from `basis`. In this case, we want to change the log activity of H2S(g), so we use \"H2S\" because that is what's in the table given by `basis`:"
   ]
  },
  {
   "cell_type": "code",
   "execution_count": null,
   "metadata": {},
   "outputs": [],
   "source": [
    "basis(\"H2S\", 2)"
   ]
  },
  {
   "cell_type": "markdown",
   "metadata": {},
   "source": [
    "In the table above, the logact of \"H2S\", our H2S(g), has been changed to 2.\n",
    "\n",
    "Okay, now we are ready to define the minerals we would like to plot. Let's begin with the minerals with regions in Fig8A. The abbreviations used in the figure refer to the following minerals:\n",
    "\n",
    "Py - pyrite\n",
    "\n",
    "Mag - magnetite\n",
    "\n",
    "Cv - covellite\n",
    "\n",
    "Cpp - chalcopyrite\n",
    "\n",
    "Bn - bornite\n",
    "\n",
    "Let's put a list of these mineral names into the `species` function:"
   ]
  },
  {
   "cell_type": "code",
   "execution_count": null,
   "metadata": {},
   "outputs": [],
   "source": [
    "species([\"pyrite\", \"magnetite\", \"covellite\", \"chalcopyrite\", \"bornite\"])"
   ]
  },
  {
   "cell_type": "markdown",
   "metadata": {},
   "source": [
    "Now that we have our `basis` and `species` loaded, it's time for `affinity`. This is where we get to decide what variables to plot on our axes, the ranges of those variables, the temperature, and the pressure.\n",
    "\n",
    "The annotation in Fig8A tells us that the temperature is 400 °C and 2000 bars. That's no trouble - we know from previous demos how to adjust temperature and pressure in the `affinity` function. But what about our x and y variables?\n",
    "\n",
    "Fig8A has some complicated-looking x and y axes labels:\n",
    "\n",
    "log(a<sub>Cu<sup>+</sup></sub>/a<sub>H<sup>+</sup></sub>)\n",
    "\n",
    "log(a<sub>Fe<sup>+2</sup></sub>/a<sup>2</sup><sub>H<sup>+</sup></sub>)\n",
    "\n",
    "They represent activities of Cu+ or Fe+2 ions expressed ratios of H+ raised to the power of the ion's charge. This is commonly done in geochemical predominance diagrams to reduce the number of variables necessary for plotting. In effect, the system's pH is effectively folded into the visualization.\n",
    "\n",
    "Fortunately for us, we don't need to do anything fancy to take these ion ratios into account because pyCHNOSZ automatically does it for us. We'll soon see this when we create our first draft of the diagram later.\n",
    "\n",
    "For now, the takeaway is that Cu+ and Fe+2 are going to be used as our x and y axis parameters, respectively, when we fill out our `affinity` function. Let's use a Python dictionary to specify our parameters in `affinity` because we have basis species with \"+\" or \"-\" in our axes (see Part 2 for mo):"
   ]
  },
  {
   "cell_type": "code",
   "execution_count": null,
   "metadata": {},
   "outputs": [],
   "source": [
    "a = affinity(**{\"Cu+\":[-8, 2], \"Fe+2\":[-4, 12], \"T\":400, \"P\":2000})"
   ]
  },
  {
   "cell_type": "markdown",
   "metadata": {},
   "source": [
    "Okay, let's plot the output of our `affinity` calculation using `diagram`.\n",
    "\n",
    "The title of Fig8A specifies that the system is balanced by O<sub>2</sub>. We can specify that with the `balance` parameter:"
   ]
  },
  {
   "cell_type": "code",
   "execution_count": null,
   "metadata": {},
   "outputs": [],
   "source": [
    "d = diagram(a, balance=\"O2\", width=500, height=400, interactive=True)"
   ]
  },
  {
   "cell_type": "markdown",
   "metadata": {},
   "source": [
    "Not a bad start! The mineral predominance regions are in the correct positions and have the right shapes. The axes labels need to be adjusted to specify that they are ratios of H+. We can do that with the ratio label function `ratlab`."
   ]
  },
  {
   "cell_type": "code",
   "execution_count": null,
   "metadata": {},
   "outputs": [],
   "source": [
    "d = diagram(a,\n",
    "            balance=\"O2\",\n",
    "            xlab=ratlab(\"Cu+\"), # x axis label\n",
    "            ylab=ratlab(\"Fe+2\"), # y axis label\n",
    "            width=500, height=400, interactive=True)"
   ]
  },
  {
   "cell_type": "markdown",
   "metadata": {},
   "source": [
    "Now that the axes are properly labeled, we could pack up and call it a day. But let's go further to replicate Fig8A as closely as we can. We can make the diagram black-and-white by specifying `fill`, `col`, and `lwd` and add a title with `main`:"
   ]
  },
  {
   "cell_type": "code",
   "execution_count": null,
   "metadata": {},
   "outputs": [],
   "source": [
    "d = diagram(a,\n",
    "            balance=\"O2\",\n",
    "            xlab=ratlab(\"Cu+\"), # x axis label\n",
    "            ylab=ratlab(\"Fe+2\"), # y axis label\n",
    "            fill=\"none\", # no fill\n",
    "            col=\"black\", # black lines\n",
    "            lwd=0.5, # line thickness\n",
    "            main=\"Cu-Fe-S-O-H; 1° balance: O<sub>2</sub>\", # plot title in HTML format\n",
    "            width=500, height=400, interactive=True)"
   ]
  },
  {
   "cell_type": "markdown",
   "metadata": {},
   "source": [
    "We're getting really close now. The only difference between our plot and Fig8A is the use of mineral abbreviations. Let's implement abbreviated mineral names in our plot, too.\n",
    "\n",
    "Each entry in the WORM database has an index, a number representing the order in which it appears. This number is shown in the 'ispecies' column of `species()`:"
   ]
  },
  {
   "cell_type": "code",
   "execution_count": null,
   "metadata": {},
   "outputs": [],
   "source": [
    "species()"
   ]
  },
  {
   "cell_type": "markdown",
   "metadata": {},
   "source": [
    "We can grab a list of mineral indices from the 'ispecies' column with:"
   ]
  },
  {
   "cell_type": "code",
   "execution_count": null,
   "metadata": {},
   "outputs": [],
   "source": [
    "species_indices = list(species()[\"ispecies\"])\n",
    "species_indices"
   ]
  },
  {
   "cell_type": "markdown",
   "metadata": {},
   "source": [
    "Then we can use this list along with the `info` function to look up the thermodynamic data for these minerals:"
   ]
  },
  {
   "cell_type": "code",
   "execution_count": null,
   "metadata": {},
   "outputs": [],
   "source": [
    "info(species_indices)"
   ]
  },
  {
   "cell_type": "markdown",
   "metadata": {},
   "source": [
    "Notice that there is a column for chemical species abbreviations, called 'abbrv'. Much like before, we can grab a list of these abbreviations with:"
   ]
  },
  {
   "cell_type": "code",
   "execution_count": null,
   "metadata": {},
   "outputs": [],
   "source": [
    "species_abbrv = list(info(species_indices)[\"abbrv\"])\n",
    "species_abbrv"
   ]
  },
  {
   "cell_type": "markdown",
   "metadata": {},
   "source": [
    "Now we have a list of mineral abbreviations that will dynamically update upon re-running this notebook if we ever decide to change which minerals we include in our plot.\n",
    "\n",
    "We can feed these abbreviations into our diagram using the `names` parameter:"
   ]
  },
  {
   "cell_type": "code",
   "execution_count": null,
   "metadata": {},
   "outputs": [],
   "source": [
    "_ = diagram(a,\n",
    "            balance=\"O2\",\n",
    "            xlab=ratlab(\"Cu+\"), # x axis label\n",
    "            ylab=ratlab(\"Fe+2\"), # y axis label\n",
    "            fill=\"none\", # no fill\n",
    "            col=\"black\", # black lines\n",
    "            lwd=0.5, # line thickness\n",
    "            main=\"Cu-Fe-S-O-H; 1° balance: O<sub>2</sub>\", # plot title in HTML format\n",
    "            names=species_abbrv, # predominance region names\n",
    "            width=500, height=400, interactive=True)"
   ]
  },
  {
   "cell_type": "markdown",
   "metadata": {},
   "source": [
    "The original Fig8A has an annotation in the upper left corner that displays the temperature and pressure of the system. Let's add that to our plot too using the `annotation` and `annotation_coords` parameters."
   ]
  },
  {
   "cell_type": "code",
   "execution_count": null,
   "metadata": {},
   "outputs": [],
   "source": [
    "_ = diagram(a,\n",
    "            balance=\"O2\",\n",
    "            xlab=ratlab(\"Cu+\"), # x axis label\n",
    "            ylab=ratlab(\"Fe+2\"), # y axis label\n",
    "            fill=\"none\", # no fill\n",
    "            col=\"black\", # black lines\n",
    "            lwd=0.5, # line thickness\n",
    "            main=\"Cu-Fe-S-O-H; 1° balance: O<sub>2</sub>\", # plot title in HTML format\n",
    "            names=species_abbrv, # predominance region names\n",
    "            annotation=\"400 °C, 2000 bar\", # annotation text\n",
    "            annotation_coords=[0, 1], # annotation coordinates\n",
    "            width=500, height=400, interactive=True)"
   ]
  },
  {
   "cell_type": "markdown",
   "metadata": {},
   "source": [
    "Annotation coordinates are given as a list of two numbers. For example, ours is:\n",
    "\n",
    "`annotation_coords=[0, 1],`\n",
    "\n",
    "The first number is the x position of the annotation, ranging from 0 (left) to 1 (right), with 0.5 in the middle. The second number is the y position, from 0 (bottom) to 1 (top). Since these coordinates are `[0, 1]`, the annotation appears in the left top corner."
   ]
  },
  {
   "cell_type": "markdown",
   "metadata": {},
   "source": [
    "The last thing we need to do to replicate Fig8A is to add the mineral saturation lines. For this, we will need to store our diagram inside of a Python variable. We can do this by setting `fig_out=True`, which makes the `diagram` function output the figure object itself instead of just displaying it.\n",
    "\n",
    "When `fig_out=True`, the `diagram` function outputs two things at the same time. The first output is a dataframe containing some plot data. We don't care about that right now, so we'll just assign that output to a throwaway variable, `_`. The second output is the figure object. This is what we want, so let's assign it to the variable `d`. Note that `_` and `d` are separated by a comma, like this:\n",
    "\n",
    "```\n",
    "_, d = diagram(a,\n",
    "        ...\n",
    "```"
   ]
  },
  {
   "cell_type": "code",
   "execution_count": null,
   "metadata": {},
   "outputs": [],
   "source": [
    "_, d = diagram(a,\n",
    "            balance=\"O2\",\n",
    "            xlab=ratlab(\"Cu+\"), # x axis label\n",
    "            ylab=ratlab(\"Fe+2\"), # y axis label\n",
    "            fill=\"none\", # no fill\n",
    "            col=\"black\", # black lines\n",
    "            lwd=0.5, # line thickness\n",
    "            main=\"Cu-Fe-S-O-H; 1° balance: O<sub>2</sub>\", # plot title in HTML format\n",
    "            names=species_abbrv, # predominance region names\n",
    "            annotation=\"400 °C, 2000 bar\", # annotation text\n",
    "            annotation_coords=[0, 1], # annotation coordinates\n",
    "            fig_out=True,\n",
    "            width=500, height=400, interactive=True)"
   ]
  },
  {
   "cell_type": "markdown",
   "metadata": {},
   "source": [
    "The figure is now stored in the variable `d`:"
   ]
  },
  {
   "cell_type": "code",
   "execution_count": null,
   "metadata": {},
   "outputs": [],
   "source": [
    "d"
   ]
  },
  {
   "cell_type": "markdown",
   "metadata": {},
   "source": [
    "The interactive plots you can make with pyCHNOSZ are examples of Plotly plots. If you have some Python know-how, you can customize a Plotly plot like this one in all sorts of ways (but that is beyond the scope of this tutorial).\n",
    "\n",
    "For now, let's focus on adding saturation lines to our diagram. Fig8A has the following minerals appearing as saturation lines. Let's generate a new set of `species`. These will use the same `basis` we previously defined."
   ]
  },
  {
   "cell_type": "code",
   "execution_count": null,
   "metadata": {},
   "outputs": [],
   "source": [
    "species([\"pyrrhotite\", \"ferrous-oxide\", \"chalcocite\", \"cuprite\"])"
   ]
  },
  {
   "cell_type": "markdown",
   "metadata": {},
   "source": [
    "Now let's re-run our `affinity` calculation for these new minerals. We need to make sure the parameters match those we used previously, since we will be plotting these saturation lines atop our other plot."
   ]
  },
  {
   "cell_type": "code",
   "execution_count": null,
   "metadata": {},
   "outputs": [],
   "source": [
    "a = affinity(**{\"Cu+\":[-8, 2], \"Fe+2\":[-4, 12], \"T\":400, \"P\":2000})"
   ]
  },
  {
   "cell_type": "markdown",
   "metadata": {},
   "source": [
    "The last step is to use the `add_saturation_lines` function. The first parameter is the output of `affinity`, `a`. The second is our `diagram`, `d`"
   ]
  },
  {
   "cell_type": "code",
   "execution_count": null,
   "metadata": {},
   "outputs": [],
   "source": [
    "d_sat = add_saturation_lines(a, d)\n",
    "d_sat"
   ]
  },
  {
   "cell_type": "markdown",
   "metadata": {},
   "source": [
    "The lines are black by default. Let's make them a nice blue color:"
   ]
  },
  {
   "cell_type": "code",
   "execution_count": null,
   "metadata": {},
   "outputs": [],
   "source": [
    "d_sat = add_saturation_lines(a, d, line_color=\"cornflowerblue\")\n",
    "d_sat"
   ]
  },
  {
   "cell_type": "markdown",
   "metadata": {},
   "source": [
    "Or we can exert more control over saturation line colors, styles, and width. Line types are cycled before moving onto the next color:"
   ]
  },
  {
   "cell_type": "code",
   "execution_count": null,
   "metadata": {},
   "outputs": [],
   "source": [
    "d_sat = add_saturation_lines(a, d,\n",
    "                             line_width=1.5,\n",
    "                             line_type=[\"dot\", \"dashdot\"],\n",
    "                             line_color=[\"cornflowerblue\", \"orange\"],\n",
    "                             )\n",
    "d_sat"
   ]
  },
  {
   "cell_type": "markdown",
   "metadata": {},
   "source": [
    "Now that we have this beautiful plot, we can export it as a static image with `write_image`. A few different filetypes are available, including rasters (png, jpg, webp), and vectors (svg, pdf, eps). Let's export our image as a pdf file:"
   ]
  },
  {
   "cell_type": "code",
   "execution_count": null,
   "metadata": {},
   "outputs": [],
   "source": [
    "# Wait a second before writing image to allow\n",
    "# the diagram to render fully before writing.\n",
    "# Prevents a 'loading' message from appearing in\n",
    "# the corner of the resulting PDF.\n",
    "import time\n",
    "time.sleep(1) # waits 1 second\n",
    "\n",
    "# write the image to a PDF\n",
    "d_sat.write_image(\"Fig8A.pdf\")"
   ]
  },
  {
   "cell_type": "markdown",
   "metadata": {},
   "source": [
    "Check your WORM file browser. A file called `Fig8A.pdf` should have appeared (or will in a moment).\n",
    "\n",
    "If you would like to download this figure to your computer, you can right-click (control+click on a Mac) on the file in the WORM file browser and select \"Download\".\n",
    "\n",
    "It's also possible to export the interactive diagram itself as an HTML file that can be embedded in websites or viewed on the WORM Portal:"
   ]
  },
  {
   "cell_type": "code",
   "execution_count": null,
   "metadata": {},
   "outputs": [],
   "source": [
    "d_sat.write_html(\"Fig8A.html\")"
   ]
  },
  {
   "cell_type": "markdown",
   "metadata": {},
   "source": [
    "If you open this HTML file in your WORM file browser, you might not be able to see it until you click the \"Trust HTML\" button in the upper left corner of the tab that appears. Once you are able to see the plot, try mousing over it to confirm that it is interactive.\n",
    "\n",
    "Congratulations! You've created a slick-looking predominance diagram with pyCHNOSZ."
   ]
  },
  {
   "cell_type": "markdown",
   "metadata": {},
   "source": [
    "---\n",
    "\n",
    "**Lingering questions:**\n",
    "- Why don't some of the mineral saturation lines in our plot match perfectly with Fig 8A from Dick 2021? For example, the vertical saturation line for cuprite appears at log(*a*<sub>Cu<sup>+</sup></sub>/*a*<sub>H<sup>+</sup></sub>) = 1.35 in our plot, but it looks more like 1.75 in Fig 8A. This is because Dick 2021 uses the OBIGT (\"One Big Table\") thermodynamic database that primarily uses minerals from [Helgeson et al., 1978](http://www.dewcommunity.org/uploads/4/1/7/6/41765907/helgeson_et_al_1978.pdf) while also mixing in minerals from [Berman 1988](https://doi.org/10.1093/petrology/29.2.445) that have their own specialized set of equations of state. The WORM database used in this demo does not include minerals from Berman 1988 in order to maintain internally consistent mineral properties.\n",
    "- If you can think of any questions that ought to be answered in this section, feel free to contact WORM administrator Grayson Boyer (gmboyer at asu dot edu)."
   ]
  },
  {
   "cell_type": "markdown",
   "metadata": {},
   "source": [
    "End of demo"
   ]
  }
 ],
 "metadata": {
  "colab": {
   "collapsed_sections": [],
   "name": "CHNOSZ demo.ipynb",
   "provenance": []
  },
  "kernelspec": {
   "display_name": "Python 3 (ipykernel)",
   "language": "python",
   "name": "python3"
  },
  "language_info": {
   "codemirror_mode": {
    "name": "ipython",
    "version": 3
   },
   "file_extension": ".py",
   "mimetype": "text/x-python",
   "name": "python",
   "nbconvert_exporter": "python",
   "pygments_lexer": "ipython3",
   "version": "3.12.11"
  }
 },
 "nbformat": 4,
 "nbformat_minor": 4
}
